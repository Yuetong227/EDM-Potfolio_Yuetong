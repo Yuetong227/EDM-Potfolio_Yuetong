{
  "nbformat": 4,
  "nbformat_minor": 0,
  "metadata": {
    "colab": {
      "name": "ICE6_Principal Component Anaysis",
      "provenance": [],
      "collapsed_sections": []
    },
    "kernelspec": {
      "name": "python3",
      "display_name": "Python 3"
    },
    "language_info": {
      "name": "python"
    }
  },
  "cells": [
    {
      "cell_type": "markdown",
      "source": [
        "#Principal Component Analysis\n",
        "Objectives:\n",
        "\n",
        "At the end of this ICE, I will be able to develop intuitions about principal component analysis and implement the PCA algorithm for dimension reduction purposes.\n",
        "\n",
        "Let's first start with a simple 2 dimension example with 200 random points that are roughly around  y = 1 + 2x\n",
        "\n"
      ],
      "metadata": {
        "id": "bzfR4-8zL3Rq"
      }
    },
    {
      "cell_type": "code",
      "execution_count": 1,
      "metadata": {
        "id": "wQAQQJgXLxYd"
      },
      "outputs": [],
      "source": [
        "# Import the standard stuff\n",
        "import pandas as pd\n",
        "import numpy as np\n",
        "from matplotlib import pyplot as plt"
      ]
    },
    {
      "cell_type": "code",
      "source": [
        "np.random.seed(123)\n",
        "\n",
        "X = np.random.randn(200) + 1.5 ## Array of 200 values of x with means of 1 (by default) and sd of 1.5\n",
        "res = 0.5 * np.random.randn(200) ## Generate 200 residuals with sd of 0.6\n",
        "y = 1 + 2 * X + res\n",
        "\n",
        "twoDData = np.c_[X,y]\n",
        "\n",
        "plt.scatter(twoDData[:, 0], twoDData[:, 1])"
      ],
      "metadata": {
        "colab": {
          "base_uri": "https://localhost:8080/",
          "height": 285
        },
        "id": "dZpmWkavL1v9",
        "outputId": "1fbc71bc-2055-4871-a4e9-adbb1b7f7427"
      },
      "execution_count": 2,
      "outputs": [
        {
          "output_type": "execute_result",
          "data": {
            "text/plain": [
              "<matplotlib.collections.PathCollection at 0x7fb375d7ea10>"
            ]
          },
          "metadata": {},
          "execution_count": 2
        },
        {
          "output_type": "display_data",
          "data": {
            "image/png": "[encoded data removed]",
            "text/plain": [
              "<Figure size 432x288 with 1 Axes>"
            ]
          },
          "metadata": {
            "needs_background": "light"
          }
        }
      ]
    },
    {
      "cell_type": "code",
      "source": [
        "from sklearn.decomposition import PCA\n",
        "\n",
        "pca = PCA(n_components=2)\n",
        "pca.fit(twoDData)"
      ],
      "metadata": {
        "colab": {
          "base_uri": "https://localhost:8080/"
        },
        "id": "uVtkC_yQL1yq",
        "outputId": "91366469-d8dc-45bb-d69b-905134ac2bec"
      },
      "execution_count": 3,
      "outputs": [
        {
          "output_type": "execute_result",
          "data": {
            "text/plain": [
              "PCA(n_components=2)"
            ]
          },
          "metadata": {},
          "execution_count": 3
        }
      ]
    },
    {
      "cell_type": "code",
      "source": [
        "print(pca.components_)"
      ],
      "metadata": {
        "colab": {
          "base_uri": "https://localhost:8080/"
        },
        "id": "TUP32020L11f",
        "outputId": "6245ad98-ebd7-4bc0-8e23-c169ef03bb35"
      },
      "execution_count": 4,
      "outputs": [
        {
          "output_type": "stream",
          "name": "stdout",
          "text": [
            "[[-0.43316568 -0.90131431]\n",
            " [-0.90131431  0.43316568]]\n"
          ]
        }
      ]
    },
    {
      "cell_type": "code",
      "source": [
        "print(pca.explained_variance_)"
      ],
      "metadata": {
        "colab": {
          "base_uri": "https://localhost:8080/"
        },
        "id": "49z0s66sL14C",
        "outputId": "08075db1-440e-43e7-bf4b-465c3331b1fe"
      },
      "execution_count": 5,
      "outputs": [
        {
          "output_type": "stream",
          "name": "stdout",
          "text": [
            "[5.75175781 0.04167795]\n"
          ]
        }
      ]
    },
    {
      "cell_type": "markdown",
      "source": [
        "The two vectors in pca.components_ represent the principal axes of the data: one pointing to the lower left (i.e., -0.43, -0.90) and explaining a lot more variance (5.75) and another orthorgnal to the first axis and explaining much less variance (0.04). The projection of each data point onto the principal axes are the \"principal components\" of the data. By comparing the variance_explained, we can conclude that the first component is more important than the second one."
      ],
      "metadata": {
        "id": "TI8hFEDiNJkO"
      }
    },
    {
      "cell_type": "code",
      "source": [
        "pca = PCA(n_components=1)\n",
        "pca.fit(twoDData)\n",
        "twoDData_dr = pca.transform(twoDData)\n",
        "print(\"original shape:   \", twoDData.shape)\n",
        "print(\"transformed shape:\", twoDData_dr.shape)"
      ],
      "metadata": {
        "colab": {
          "base_uri": "https://localhost:8080/"
        },
        "id": "bwLbe4phL16z",
        "outputId": "d4419e1d-bab5-4cf4-baa1-0c96b510003c"
      },
      "execution_count": 6,
      "outputs": [
        {
          "output_type": "stream",
          "name": "stdout",
          "text": [
            "original shape:    (200, 2)\n",
            "transformed shape: (200, 1)\n"
          ]
        }
      ]
    },
    {
      "cell_type": "markdown",
      "source": [
        "#PCA for Dimension Reduction\n",
        "The transformed data has been reduced to a single dimension. To understand the effect of this dimensionality reduction, we can perform the inverse transform of this reduced data and plot it along with the original data:"
      ],
      "metadata": {
        "id": "HtHXDrz7Na1p"
      }
    },
    {
      "cell_type": "code",
      "source": [
        "twoDData_new = pca.inverse_transform(twoDData_dr)\n",
        "plt.scatter(twoDData[:, 0], twoDData[:, 1], alpha=0.5)\n",
        "plt.scatter(twoDData_new[:, 0], twoDData_new[:, 1], alpha=0.8)"
      ],
      "metadata": {
        "colab": {
          "base_uri": "https://localhost:8080/",
          "height": 285
        },
        "id": "BgJ58Zj-L19S",
        "outputId": "ac84075b-abf9-46ff-f64d-331b8bd2b66e"
      },
      "execution_count": 7,
      "outputs": [
        {
          "output_type": "execute_result",
          "data": {
            "text/plain": [
              "<matplotlib.collections.PathCollection at 0x7fb36285ab50>"
            ]
          },
          "metadata": {},
          "execution_count": 7
        },
        {
          "output_type": "display_data",
          "data": {
            "image/png": "[encoded data removed]",
            "text/plain": [
              "<Figure size 432x288 with 1 Axes>"
            ]
          },
          "metadata": {
            "needs_background": "light"
          }
        }
      ]
    },
    {
      "cell_type": "markdown",
      "source": [
        "The blue points are the original data, while the organge points are the projected version. This makes clear what a PCA dimensionality reduction means: the information along the least important principal axis or axes is removed, leaving only the component(s) of the data with the highest variance. The fraction of variance that is cut out (proportional to the spread of points about the line formed in this figure) is roughly a measure of how much \"information\" is discarded in this reduction of dimensionality.\n",
        "\n",
        "This reduced-dimension dataset is in some senses \"good enough\" to encode the most important relationships between the points: despite reducing the dimension of the data by 50%, the overall relationship between the data points are mostly preserved."
      ],
      "metadata": {
        "id": "EqIDNqrHNptE"
      }
    },
    {
      "cell_type": "markdown",
      "source": [
        "#PCA Example in an Intelligent Tutoring System\n",
        "I will be using data from the Assistments Intelligent Tutoring system. This system gives students hints based on how they perform on math problems. We want to see if we can build a decision tree to help teachers decide which students to follow up with, based on students' performance in Assistments.\n",
        "\n",
        "Here are the variables:\n",
        "\n",
        "**id** - student id\n",
        "\n",
        "**prior_prob_count** - The number of problems a student has done in the system prior to the current session\n",
        "\n",
        "**prior_percent_correct** - The percentage of problems a student has answered correctly piror to the current session\n",
        "\n",
        "**problems_attempted** - The number of problems a student has attempted in this current session\n",
        "\n",
        "**mean_correct** - The percentage of correct problems in this currect session\n",
        "\n",
        "**mean_hint** - The average number of hints the student requested in the current session\n",
        "mean_attempt - The average attempts for each problem\n",
        "\n",
        "**mean_confidence** - The reported confidence a student has reported at the end of the session"
      ],
      "metadata": {
        "id": "HiiYbblWOMKE"
      }
    },
    {
      "cell_type": "code",
      "source": [
        "ICEdata = pd.read_csv(\"ICE6_Data.csv\")\n",
        "ICEdata"
      ],
      "metadata": {
        "colab": {
          "base_uri": "https://localhost:8080/",
          "height": 424
        },
        "id": "9unVLCXBL2AI",
        "outputId": "34ca46af-299e-46bf-8bb0-7a785a4c68e9"
      },
      "execution_count": 8,
      "outputs": [
        {
          "output_type": "execute_result",
          "data": {
            "text/html": [
              "<div>\n",
              "<style scoped>\n",
              "    .dataframe tbody tr th:only-of-type {\n",
              "        vertical-align: middle;\n",
              "    }\n",
              "\n",
              "    .dataframe tbody tr th {\n",
              "        vertical-align: top;\n",
              "    }\n",
              "\n",
              "    .dataframe thead th {\n",
              "        text-align: right;\n",
              "    }\n",
              "</style>\n",
              "<table border=\"1\" class=\"dataframe\">\n",
              "  <thead>\n",
              "    <tr style=\"text-align: right;\">\n",
              "      <th></th>\n",
              "      <th>id</th>\n",
              "      <th>prior_prob_count</th>\n",
              "      <th>prior_percent_correct</th>\n",
              "      <th>problems_attempted</th>\n",
              "      <th>mean_correct</th>\n",
              "      <th>mean_hint</th>\n",
              "      <th>mean_attempt</th>\n",
              "      <th>mean_confidence</th>\n",
              "    </tr>\n",
              "  </thead>\n",
              "  <tbody>\n",
              "    <tr>\n",
              "      <th>0</th>\n",
              "      <td>172777</td>\n",
              "      <td>650</td>\n",
              "      <td>0.723077</td>\n",
              "      <td>4</td>\n",
              "      <td>1.000000</td>\n",
              "      <td>0.000000</td>\n",
              "      <td>1.000000</td>\n",
              "      <td>0.550159</td>\n",
              "    </tr>\n",
              "    <tr>\n",
              "      <th>1</th>\n",
              "      <td>175658</td>\n",
              "      <td>1159</td>\n",
              "      <td>0.800690</td>\n",
              "      <td>22</td>\n",
              "      <td>0.454545</td>\n",
              "      <td>2.227273</td>\n",
              "      <td>1.227273</td>\n",
              "      <td>0.437515</td>\n",
              "    </tr>\n",
              "    <tr>\n",
              "      <th>2</th>\n",
              "      <td>175669</td>\n",
              "      <td>1239</td>\n",
              "      <td>0.656981</td>\n",
              "      <td>11</td>\n",
              "      <td>0.636364</td>\n",
              "      <td>1.363636</td>\n",
              "      <td>1.727273</td>\n",
              "      <td>0.511060</td>\n",
              "    </tr>\n",
              "    <tr>\n",
              "      <th>3</th>\n",
              "      <td>176151</td>\n",
              "      <td>1246</td>\n",
              "      <td>0.729535</td>\n",
              "      <td>16</td>\n",
              "      <td>0.750000</td>\n",
              "      <td>0.562500</td>\n",
              "      <td>1.187500</td>\n",
              "      <td>0.491578</td>\n",
              "    </tr>\n",
              "    <tr>\n",
              "      <th>4</th>\n",
              "      <td>176165</td>\n",
              "      <td>1299</td>\n",
              "      <td>0.568129</td>\n",
              "      <td>6</td>\n",
              "      <td>0.333333</td>\n",
              "      <td>2.166667</td>\n",
              "      <td>2.000000</td>\n",
              "      <td>0.409887</td>\n",
              "    </tr>\n",
              "    <tr>\n",
              "      <th>...</th>\n",
              "      <td>...</td>\n",
              "      <td>...</td>\n",
              "      <td>...</td>\n",
              "      <td>...</td>\n",
              "      <td>...</td>\n",
              "      <td>...</td>\n",
              "      <td>...</td>\n",
              "      <td>...</td>\n",
              "    </tr>\n",
              "    <tr>\n",
              "      <th>337</th>\n",
              "      <td>253464</td>\n",
              "      <td>9</td>\n",
              "      <td>0.222222</td>\n",
              "      <td>23</td>\n",
              "      <td>0.782609</td>\n",
              "      <td>0.000000</td>\n",
              "      <td>1.347826</td>\n",
              "      <td>0.602103</td>\n",
              "    </tr>\n",
              "    <tr>\n",
              "      <th>338</th>\n",
              "      <td>253517</td>\n",
              "      <td>6</td>\n",
              "      <td>0.833333</td>\n",
              "      <td>16</td>\n",
              "      <td>0.562500</td>\n",
              "      <td>0.562500</td>\n",
              "      <td>2.062500</td>\n",
              "      <td>0.571269</td>\n",
              "    </tr>\n",
              "    <tr>\n",
              "      <th>339</th>\n",
              "      <td>255494</td>\n",
              "      <td>12</td>\n",
              "      <td>0.750000</td>\n",
              "      <td>3</td>\n",
              "      <td>0.666667</td>\n",
              "      <td>0.666667</td>\n",
              "      <td>1.333333</td>\n",
              "      <td>0.563379</td>\n",
              "    </tr>\n",
              "    <tr>\n",
              "      <th>340</th>\n",
              "      <td>256227</td>\n",
              "      <td>84</td>\n",
              "      <td>0.678571</td>\n",
              "      <td>3</td>\n",
              "      <td>0.333333</td>\n",
              "      <td>1.666667</td>\n",
              "      <td>1.333333</td>\n",
              "      <td>0.567501</td>\n",
              "    </tr>\n",
              "    <tr>\n",
              "      <th>341</th>\n",
              "      <td>257289</td>\n",
              "      <td>20</td>\n",
              "      <td>1.000000</td>\n",
              "      <td>4</td>\n",
              "      <td>1.000000</td>\n",
              "      <td>0.000000</td>\n",
              "      <td>1.000000</td>\n",
              "      <td>0.439283</td>\n",
              "    </tr>\n",
              "  </tbody>\n",
              "</table>\n",
              "<p>342 rows × 8 columns</p>\n",
              "</div>"
            ],
            "text/plain": [
              "         id  prior_prob_count  ...  mean_attempt  mean_confidence\n",
              "0    172777               650  ...      1.000000         0.550159\n",
              "1    175658              1159  ...      1.227273         0.437515\n",
              "2    175669              1239  ...      1.727273         0.511060\n",
              "3    176151              1246  ...      1.187500         0.491578\n",
              "4    176165              1299  ...      2.000000         0.409887\n",
              "..      ...               ...  ...           ...              ...\n",
              "337  253464                 9  ...      1.347826         0.602103\n",
              "338  253517                 6  ...      2.062500         0.571269\n",
              "339  255494                12  ...      1.333333         0.563379\n",
              "340  256227                84  ...      1.333333         0.567501\n",
              "341  257289                20  ...      1.000000         0.439283\n",
              "\n",
              "[342 rows x 8 columns]"
            ]
          },
          "metadata": {},
          "execution_count": 8
        }
      ]
    },
    {
      "cell_type": "code",
      "source": [
        "ICEdata_noid = ICEdata.drop(['id'], axis = 1)\n",
        "icepca = PCA(n_components=7)\n",
        "icepca.fit(ICEdata_noid)\n",
        "\n",
        "print(\"The principal components are:\")\n",
        "print(icepca.components_)\n",
        "print(\"The explained variances are:\")\n",
        "print(icepca.explained_variance_)"
      ],
      "metadata": {
        "colab": {
          "base_uri": "https://localhost:8080/"
        },
        "id": "jsyU47YqL2Cu",
        "outputId": "667555af-c461-4f5f-eeb3-e3f5e5ac1d6a"
      },
      "execution_count": 9,
      "outputs": [
        {
          "output_type": "stream",
          "name": "stdout",
          "text": [
            "The principal components are:\n",
            "[[ 9.99998379e-01  3.25231653e-05  1.72229676e-03  6.65415156e-05\n",
            "   4.97054823e-04  1.49367002e-04  1.15030348e-05]\n",
            " [-1.73541120e-03  1.03037706e-03  9.99602228e-01  2.30861751e-03\n",
            "   2.23020180e-02  1.69662730e-02 -8.64582845e-04]\n",
            " [-3.87330335e-04 -3.27396081e-02 -2.70451869e-02 -1.24635620e-01\n",
            "   6.73010236e-01  7.27812593e-01  2.92226368e-03]\n",
            " [ 2.29120283e-04  3.26414469e-02  3.68040760e-03  1.78860696e-01\n",
            "  -7.05688901e-01  6.84765009e-01  5.46329794e-03]\n",
            " [ 1.63571033e-04 -1.96336169e-01  6.70115719e-03 -9.52166155e-01\n",
            "  -2.19898499e-01  3.19977181e-02 -7.35362922e-02]\n",
            " [ 1.91456302e-05 -9.79282671e-01  7.60612436e-04  1.99617334e-01\n",
            "  -2.17110326e-03 -7.96442781e-03  3.30097853e-02]\n",
            " [ 1.73255132e-06 -1.78647923e-02 -1.39538358e-03  7.74726598e-02\n",
            "   1.42375081e-02  3.24800341e-03 -9.96726458e-01]]\n",
            "The explained variances are:\n",
            "[1.01909636e+05 9.65917304e+01 8.07223611e-01 4.21069102e-01\n",
            " 4.13364216e-02 1.60996431e-02 1.08938450e-02]\n"
          ]
        }
      ]
    },
    {
      "cell_type": "markdown",
      "source": [
        "From the explained variances, we can see that the first two components explaining substantially more variances than other components. So let's reduce the the data to two dimensions and plot it."
      ],
      "metadata": {
        "id": "rhnugPXgPOnA"
      }
    },
    {
      "cell_type": "code",
      "source": [
        "icedata_dr = icepca.transform(ICEdata_noid)\n",
        "plt.scatter(icedata_dr[:,0], icedata_dr[:,1])"
      ],
      "metadata": {
        "colab": {
          "base_uri": "https://localhost:8080/",
          "height": 282
        },
        "id": "Vj5pdXrgPQCR",
        "outputId": "a8222bcf-346f-478b-ad95-8ee0ac65ebde"
      },
      "execution_count": 10,
      "outputs": [
        {
          "output_type": "execute_result",
          "data": {
            "text/plain": [
              "<matplotlib.collections.PathCollection at 0x7fb36279e950>"
            ]
          },
          "metadata": {},
          "execution_count": 10
        },
        {
          "output_type": "display_data",
          "data": {
            "image/png": "[encoded data removed]",
            "text/plain": [
              "<Figure size 432x288 with 1 Axes>"
            ]
          },
          "metadata": {
            "needs_background": "light"
          }
        }
      ]
    },
    {
      "cell_type": "markdown",
      "source": [
        "From the scatter plot, we can clearly see three clusters. Let's see if KMeans will help us to pick them up."
      ],
      "metadata": {
        "id": "Q1J4ciosPUEP"
      }
    },
    {
      "cell_type": "code",
      "source": [
        "from sklearn.cluster import KMeans\n",
        "\n",
        "kmeans = KMeans(n_clusters=3)\n",
        "kmeans.fit(icedata_dr)\n",
        "cluster_kmeans = kmeans.predict(icedata_dr)\n",
        "\n",
        "plt.scatter(icedata_dr[:, 0], icedata_dr[:, 1], c=cluster_kmeans, cmap='viridis') # Use cluster_means as the indicator for clusters"
      ],
      "metadata": {
        "colab": {
          "base_uri": "https://localhost:8080/",
          "height": 282
        },
        "id": "YTpIPT4NPQFK",
        "outputId": "3d1339d9-6ae6-4034-c0d9-64b96786de52"
      },
      "execution_count": 11,
      "outputs": [
        {
          "output_type": "execute_result",
          "data": {
            "text/plain": [
              "<matplotlib.collections.PathCollection at 0x7fb3561b30d0>"
            ]
          },
          "metadata": {},
          "execution_count": 11
        },
        {
          "output_type": "display_data",
          "data": {
            "image/png": "[encoded data removed]",
            "text/plain": [
              "<Figure size 432x288 with 1 Axes>"
            ]
          },
          "metadata": {
            "needs_background": "light"
          }
        }
      ]
    }
  ]
}